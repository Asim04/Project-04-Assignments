{
  "nbformat": 4,
  "nbformat_minor": 0,
  "metadata": {
    "colab": {
      "provenance": [],
      "authorship_tag": "ABX9TyPFYV6vperonTu8+8nfmBWP",
      "include_colab_link": true
    },
    "kernelspec": {
      "name": "python3",
      "display_name": "Python 3"
    },
    "language_info": {
      "name": "python"
    },
    "widgets": {
      "application/vnd.jupyter.widget-state+json": {
        "f418c2600a60424e9f366905c2a9a597": {
          "model_module": "@jupyter-widgets/controls",
          "model_name": "ButtonModel",
          "model_module_version": "1.5.0",
          "state": {
            "_dom_classes": [],
            "_model_module": "@jupyter-widgets/controls",
            "_model_module_version": "1.5.0",
            "_model_name": "ButtonModel",
            "_view_count": null,
            "_view_module": "@jupyter-widgets/controls",
            "_view_module_version": "1.5.0",
            "_view_name": "ButtonView",
            "button_style": "",
            "description": "Generate Random Numbers",
            "disabled": false,
            "icon": "",
            "layout": "IPY_MODEL_01cfb0dd691448cf96b36818c2ec4a05",
            "style": "IPY_MODEL_54a988560a4645d490358c53f3de3656",
            "tooltip": ""
          }
        },
        "01cfb0dd691448cf96b36818c2ec4a05": {
          "model_module": "@jupyter-widgets/base",
          "model_name": "LayoutModel",
          "model_module_version": "1.2.0",
          "state": {
            "_model_module": "@jupyter-widgets/base",
            "_model_module_version": "1.2.0",
            "_model_name": "LayoutModel",
            "_view_count": null,
            "_view_module": "@jupyter-widgets/base",
            "_view_module_version": "1.2.0",
            "_view_name": "LayoutView",
            "align_content": null,
            "align_items": null,
            "align_self": null,
            "border": null,
            "bottom": null,
            "display": null,
            "flex": null,
            "flex_flow": null,
            "grid_area": null,
            "grid_auto_columns": null,
            "grid_auto_flow": null,
            "grid_auto_rows": null,
            "grid_column": null,
            "grid_gap": null,
            "grid_row": null,
            "grid_template_areas": null,
            "grid_template_columns": null,
            "grid_template_rows": null,
            "height": null,
            "justify_content": null,
            "justify_items": null,
            "left": null,
            "margin": null,
            "max_height": null,
            "max_width": null,
            "min_height": null,
            "min_width": null,
            "object_fit": null,
            "object_position": null,
            "order": null,
            "overflow": null,
            "overflow_x": null,
            "overflow_y": null,
            "padding": null,
            "right": null,
            "top": null,
            "visibility": null,
            "width": null
          }
        },
        "54a988560a4645d490358c53f3de3656": {
          "model_module": "@jupyter-widgets/controls",
          "model_name": "ButtonStyleModel",
          "model_module_version": "1.5.0",
          "state": {
            "_model_module": "@jupyter-widgets/controls",
            "_model_module_version": "1.5.0",
            "_model_name": "ButtonStyleModel",
            "_view_count": null,
            "_view_module": "@jupyter-widgets/base",
            "_view_module_version": "1.2.0",
            "_view_name": "StyleView",
            "button_color": null,
            "font_weight": ""
          }
        },
        "ab0044c1391a426d8935e5355f60ec88": {
          "model_module": "@jupyter-widgets/output",
          "model_name": "OutputModel",
          "model_module_version": "1.0.0",
          "state": {
            "_dom_classes": [],
            "_model_module": "@jupyter-widgets/output",
            "_model_module_version": "1.0.0",
            "_model_name": "OutputModel",
            "_view_count": null,
            "_view_module": "@jupyter-widgets/output",
            "_view_module_version": "1.0.0",
            "_view_name": "OutputView",
            "layout": "IPY_MODEL_34549c0872a440879f29e1c999462e8e",
            "msg_id": "",
            "outputs": [
              {
                "output_type": "stream",
                "name": "stdout",
                "text": [
                  "69 59 10 60 90 23 74 88 87 72\n"
                ]
              }
            ]
          }
        },
        "34549c0872a440879f29e1c999462e8e": {
          "model_module": "@jupyter-widgets/base",
          "model_name": "LayoutModel",
          "model_module_version": "1.2.0",
          "state": {
            "_model_module": "@jupyter-widgets/base",
            "_model_module_version": "1.2.0",
            "_model_name": "LayoutModel",
            "_view_count": null,
            "_view_module": "@jupyter-widgets/base",
            "_view_module_version": "1.2.0",
            "_view_name": "LayoutView",
            "align_content": null,
            "align_items": null,
            "align_self": null,
            "border": null,
            "bottom": null,
            "display": null,
            "flex": null,
            "flex_flow": null,
            "grid_area": null,
            "grid_auto_columns": null,
            "grid_auto_flow": null,
            "grid_auto_rows": null,
            "grid_column": null,
            "grid_gap": null,
            "grid_row": null,
            "grid_template_areas": null,
            "grid_template_columns": null,
            "grid_template_rows": null,
            "height": null,
            "justify_content": null,
            "justify_items": null,
            "left": null,
            "margin": null,
            "max_height": null,
            "max_width": null,
            "min_height": null,
            "min_width": null,
            "object_fit": null,
            "object_position": null,
            "order": null,
            "overflow": null,
            "overflow_x": null,
            "overflow_y": null,
            "padding": null,
            "right": null,
            "top": null,
            "visibility": null,
            "width": null
          }
        }
      }
    }
  },
  "cells": [
    {
      "cell_type": "markdown",
      "metadata": {
        "id": "view-in-github",
        "colab_type": "text"
      },
      "source": [
        "<a href=\"https://colab.research.google.com/github/Asim04/Project-04-Assignments/blob/main/online_class_projects_01_basics.ipynb\" target=\"_parent\"><img src=\"https://colab.research.google.com/assets/colab-badge.svg\" alt=\"Open In Colab\"/></a>"
      ]
    },
    {
      "cell_type": "code",
      "execution_count": null,
      "metadata": {
        "colab": {
          "base_uri": "https://localhost:8080/"
        },
        "id": "BRp3ZAcwzAnn",
        "outputId": "ac84849e-a627-4e54-c00b-42c207ba928a"
      },
      "outputs": [
        {
          "output_type": "stream",
          "name": "stdout",
          "text": [
            "00_joke_bot\n",
            "What do you want?khan\n",
            "❌ Sorry, I tell only joke ✅ 🎉\n"
          ]
        }
      ],
      "source": [
        "print(\"00_joke_bot\")\n",
        "\n",
        "## Constants jo fixed strings store karti hain\n",
        "PROMPT: str = \"What do you want?\"\n",
        "JOKE: str = \"why don't Skelatons fight each other? \\n Because they don't have the guts!😊\"\n",
        "SORRY: str = \"❌ Sorry, I tell only joke ✅ 🎉\"\n",
        "\n",
        "def main():\n",
        "  # use se input lena\n",
        "  user_input = input(PROMPT).strip().lower() # Input ko clean aur lowercase bana rahe hain\n",
        "\n",
        "  if \"joke\" in user_input:   # Agar input \"joke\" hai to joke print karega\n",
        "    print(JOKE)\n",
        "  else:\n",
        "    print(SORRY)\n",
        "\n",
        "if __name__ == \"__main__\":\n",
        "  main()\n"
      ]
    },
    {
      "cell_type": "markdown",
      "source": [
        "# **Regular** **Expression**\n"
      ],
      "metadata": {
        "id": "bX5jWvhMKieK"
      }
    },
    {
      "cell_type": "code",
      "source": [
        "print(\"00_joke_bot\")\n",
        "\n",
        "import re\n",
        "\n",
        "## Constants jo fixed strings store karti hain\n",
        "PROMPT: str = \"What do you want?\"\n",
        "JOKE: str = \"why don't Skelatons fight each other? \\n Because they don't have the guts!😊\"\n",
        "SORRY: str = \"❌ Sorry, I tell only joke ✅ 🎉\"\n",
        "\n",
        "def main():\n",
        "  # use se input lena\n",
        "  user_input = input(PROMPT).strip().lower() # Input ko clean aur lowercase bana rahe hain\n",
        "\n",
        "  if re.search(r'\\bjoke\\b', user_input, re.IGNORECASE):  # Regular Expressions., (regex), re module\n",
        "    print(JOKE)\n",
        "  else:\n",
        "    print(SORRY)\n",
        "\n",
        "if __name__ == \"__main__\":\n",
        "  main()\n"
      ],
      "metadata": {
        "colab": {
          "base_uri": "https://localhost:8080/"
        },
        "id": "RAXTr-JQLP1m",
        "outputId": "2682fa72-8dc7-4d37-f74a-551b20093f21"
      },
      "execution_count": null,
      "outputs": [
        {
          "output_type": "stream",
          "name": "stdout",
          "text": [
            "00_joke_bot\n",
            "What do you want?kiya howa tumen jok\n",
            "❌ Sorry, I tell only joke ✅ 🎉\n"
          ]
        }
      ]
    },
    {
      "cell_type": "code",
      "source": [
        "print(\"00_joke_bot\")\n",
        "\n",
        "import re\n",
        "\n",
        "## Constants jo fixed strings store karti hain\n",
        "PROMPT: str = \"What do you want?\"\n",
        "JOKE: str = \"why don't Skelatons fight each other? \\n Because they don't have the guts!😊\"\n",
        "SORRY: str = \"❌ Sorry, I tell only joke ✅ 🎉\"\n",
        "\n",
        "def main():\n",
        "  # use se input lena\n",
        "  user_input = input(PROMPT).strip().lower() # Input ko clean aur lowercase bana rahe hain\n",
        "\n",
        "  pattren = r\"\\bjoke\\b\"                       # Regular Expressions., (regex), re module\n",
        "\n",
        "  matches = re.findall(pattren, user_input)\n",
        "\n",
        "  if matches:\n",
        "    print(JOKE)\n",
        "  else:\n",
        "    print(SORRY)\n",
        "\n",
        "if __name__ == \"__main__\":\n",
        "  main()\n"
      ],
      "metadata": {
        "colab": {
          "base_uri": "https://localhost:8080/"
        },
        "id": "GbmnhwJ5SWKP",
        "outputId": "4e84bd1e-fe84-487f-f428-ca23b7735d5f"
      },
      "execution_count": null,
      "outputs": [
        {
          "output_type": "stream",
          "name": "stdout",
          "text": [
            "00_joke_bot\n",
            "What do you want?what a joke\n",
            "why don't Skelatons fight each other? \n",
            " Because they don't have the guts!😊\n"
          ]
        }
      ]
    },
    {
      "cell_type": "markdown",
      "source": [
        "# 2. \\d (Digits) vs \\D (Non-Digits)\n",
        "\n",
        "* \\d → Sirf numbers match karega.\n",
        "\n",
        "* \\D → Numbers ke alawa sab kuch match karega."
      ],
      "metadata": {
        "id": "Am9P2J7th_d3"
      }
    },
    {
      "cell_type": "code",
      "source": [
        "text = \"Order ID: 45678 and price is $20.\"\n",
        "pattern_digits = r\"\\d+\"   # Digits match karega\n",
        "pattern_non_digits = r\"\\D+\"  # Non-digits match karega\n",
        "\n",
        "matches_digits = re.findall(pattern_digits, text)\n",
        "matches_non_digits = re.findall(pattern_non_digits, text)\n",
        "\n",
        "print(matches_digits)    # Output: ['45678', '20']\n",
        "print(matches_non_digits) # Output: ['Order ID: ', ' and price is $']\n"
      ],
      "metadata": {
        "colab": {
          "base_uri": "https://localhost:8080/"
        },
        "id": "Wu9UNO8miY3g",
        "outputId": "d3e1b60a-3268-4339-d0af-7af4be32bd24"
      },
      "execution_count": null,
      "outputs": [
        {
          "output_type": "stream",
          "name": "stdout",
          "text": [
            "['45678', '20']\n",
            "['Order ID: ', ' and price is $', '.']\n"
          ]
        }
      ]
    },
    {
      "cell_type": "markdown",
      "source": [
        "# 3. \\s (Whitespace) vs \\S (Non-Whitespace)\n",
        "* \\s → Space, tab, newline ko match karega.\n",
        "\n",
        "* \\S → Non-space characters match karega.\n",
        "\n",
        "####🔹 Explanation:\n",
        "\n",
        "* \\s+ ne \" \" match kiya jo sirf spaces hain.\n",
        "\n",
        "* \\S+ ne \"Hello\" aur \"World!\" alag-alag match kiya."
      ],
      "metadata": {
        "id": "SlxlhGnMkbIP"
      }
    },
    {
      "cell_type": "code",
      "source": [
        "text = \"Hello   World!\"\n",
        "pattern_spaces = r\"\\s+\"  # Match spaces\n",
        "pattern_non_spaces = r\"\\S+\"  # Match non-space text\n",
        "\n",
        "matches_spaces = re.findall(pattern_spaces, text)\n",
        "matches_non_spaces = re.findall(pattern_non_spaces, text)\n",
        "\n",
        "print(matches_spaces)   # Output: ['   ']\n",
        "print(matches_non_spaces) # Output: ['Hello', 'World!']\n",
        "\n",
        "#"
      ],
      "metadata": {
        "colab": {
          "base_uri": "https://localhost:8080/"
        },
        "id": "1cqFVnnzkjDZ",
        "outputId": "c2c1eccf-f9cd-4a02-f0d5-17fa4db0a309"
      },
      "execution_count": null,
      "outputs": [
        {
          "output_type": "stream",
          "name": "stdout",
          "text": [
            "['   ']\n",
            "['Hello', 'World!']\n"
          ]
        }
      ]
    },
    {
      "cell_type": "markdown",
      "source": [
        "# Problem Statement\n",
        "Write a program that asks a user to enter a number. Your program will then double that number and print out the result. It will repeat that process until the value is 100 or greater.\n",
        "\n",
        "For example if the user enters the number 2 you would then print:\n",
        "\n",
        "4 8 16 32 64 128\n",
        "\n",
        "Note that:\n",
        "\n",
        "2 doubled is 4\n",
        "\n",
        "4 doubled is 8\n",
        "\n",
        "8 doubled is 16\n",
        "\n",
        "and so on.\n",
        "\n",
        "We stop at 128 because that value is greater than 100.\n",
        "\n",
        "Maintain the current number in a variable named curr_value. When you double the number, you should be updating curr_value. Recall that you can double the value of curr_value using a line like:\n",
        "\n",
        "curr_value = curr_value * 2\n",
        "\n",
        "This program should have a while loop and the while loop condition should test if curr_value is less than 100. Thus, your program will have the line:\n",
        "\n",
        "while curr_value < 100:\n",
        "\n",
        "## Starter Code"
      ],
      "metadata": {
        "id": "fZkVdD7Wt9EV"
      }
    },
    {
      "cell_type": "code",
      "source": [
        "def main():\n",
        "\n",
        "    # User se ek number input lena\n",
        "    curr_value = int(input(\"Enter a number: \"))\n",
        "\n",
        "    # Jab tak value 100 se choti hai, usko double karte raho\n",
        "    while curr_value < 100:\n",
        "        curr_value = curr_value * 2  # Value ka double lena\n",
        "        print(curr_value, end=\" \")  # Output space ke sath print karna\n",
        "\n",
        "if __name__ == '__main__':\n",
        "    main()\n",
        "\n",
        "# \"\"\"Real-Life Example\n",
        "\n",
        "# 🛒 Investment Growth:\n",
        "# Agar aapke paas ek choti investment hai aur har mahine uska double return mil raha hai, to yeh logic use hoti hai.\n",
        "\n",
        "# 📊 Computer Memory & Storage:\n",
        "# Computer RAM & Storage doubling concept bhi isi tarah kaam karta hai (e.g., 512MB → 1GB → 2GB → 4GB)\n",
        "\n",
        "# \"\"\"\n"
      ],
      "metadata": {
        "colab": {
          "base_uri": "https://localhost:8080/"
        },
        "id": "RZPaUJTfuPkN",
        "outputId": "89edad72-db39-45f5-f548-ce2ed36ecdb6"
      },
      "execution_count": 8,
      "outputs": [
        {
          "output_type": "stream",
          "name": "stdout",
          "text": [
            "Enter a number: 2\n",
            "4 8 16 32 64 128 "
          ]
        }
      ]
    },
    {
      "cell_type": "markdown",
      "source": [
        "# Problem Statement\n",
        "Write a program that prints out the calls for a spaceship that is about to launch. Countdown from 10 to 1 and then output Liftoff!\n",
        "\n",
        "Here's a sample run of the program:\n",
        "\n",
        "10 9 8 7 6 5 4 3 2 1 Liftoff!\n",
        "\n",
        "There are many ways to solve this problem. One approach is to use a for loop, and to use the for loop variable i. Recall that i will keep track of how many times the for loop has completed executing its body. As an example this code:\n",
        "\n",
        "for i in range(10): print(i)\n",
        "\n",
        "Will print out the values 0, 1, 2, 3, 4, 5, 6, 7, 8, 9. The values printed in liftoff are 10 minus the number of times the for loop has completed.\n",
        "\n",
        "## Starter Code"
      ],
      "metadata": {
        "id": "u5PoJIxK0SHH"
      }
    },
    {
      "cell_type": "code",
      "source": [
        "def main():\n",
        "\n",
        "    # 10 se 1 tak countdown karna\n",
        "    for i in range(10, 0, -1):\n",
        "        print(i, end=\" \")  # Har number ko space ke sath print karna\n",
        "\n",
        "    # Jab loop khatam ho jaye, to Liftoff print karo\n",
        "    print(\"Liftoff!\")\n",
        "\n",
        "if __name__ == '__main__':\n",
        "    main()\n"
      ],
      "metadata": {
        "id": "PtrGsZcz0TaH"
      },
      "execution_count": null,
      "outputs": []
    },
    {
      "cell_type": "markdown",
      "source": [
        "#Problem Statement\n",
        "Guess My Number\n",
        "\n",
        "I am thinking of a number between 0 and 99... Enter a guess: 50 Your guess is too high\n",
        "\n",
        "Enter a new number: 25 Your guess is too low\n",
        "\n",
        "Enter a new number: 40 Your guess is too low\n",
        "\n",
        "Enter a new number: 45 Your guess is too low\n",
        "\n",
        "Enter a new number: 48 Congrats! The number was: 48\n",
        "\n",
        "## Starter Code"
      ],
      "metadata": {
        "id": "t24kWIZS1A67"
      }
    },
    {
      "cell_type": "code",
      "source": [
        "import random  # Random number generate karne ke liye\n",
        "\n",
        "def main():\n",
        "\n",
        "    number = random.randint(0, 99)  # 0 se 99 tak ek random number\n",
        "    print(\"I am thinking of a number between 0 and 99...\")\n",
        "\n",
        "    try:\n",
        "\n",
        "      while True:  # Jab tak sahi guess na ho, loop chalta rahega\n",
        "        try:\n",
        "          guess = int(input(\"Enter a guess: \"))  # User ka input lena\n",
        "\n",
        "          if guess > number:\n",
        "            print(\"Your guess is too high\")  # Agar guess bada ho\n",
        "          elif guess < number:\n",
        "            print(\"Your guess is too low\")  # Agar guess chhota ho\n",
        "          else:\n",
        "            print(\"Congrats! The number was:\", number)  # Agar sahi guess ho\n",
        "            break  # Loop se bahar nikalne ke liye\n",
        "        except ValueError:\n",
        "          print(\"plese Enter a valid Number\")\n",
        "\n",
        "    except KeyboardInterrupt:\n",
        "      print(\"\\n Game stop by user. The Number was: \", number)\n",
        "\n",
        "\n",
        "if __name__ == '__main__':\n",
        "    main()\n"
      ],
      "metadata": {
        "colab": {
          "base_uri": "https://localhost:8080/"
        },
        "id": "gHZ0Eloe1FiL",
        "outputId": "208f1dc1-5b80-4f98-d13c-1e79286c4a28"
      },
      "execution_count": 18,
      "outputs": [
        {
          "output_type": "stream",
          "name": "stdout",
          "text": [
            "I am thinking of a number between 0 and 99...\n",
            "\n",
            " Game stop by user. The Number was:  26\n"
          ]
        }
      ]
    },
    {
      "cell_type": "markdown",
      "source": [
        "# only 5 tries den gay:\n",
        " use ko srif 5 tries den gay.......\n",
        " 5 tries end hone pr messge show kara den gay.\n",
        "\n",
        " the game is over:"
      ],
      "metadata": {
        "id": "X0sKYcH5BdD9"
      }
    },
    {
      "cell_type": "code",
      "source": [
        "import random  # Random number generate karne ke liye\n",
        "\n",
        "def main():\n",
        "    number = random.randint(0, 99)  # 0 se 99 tak ek random number\n",
        "    print(\"I am thinking of a number between 0 and 99...\\n\")\n",
        "\n",
        "    attempts = 0  # Guesses count karne ke liye\n",
        "    max_attempts = 5  # Sirf 5 guesses allowed hain\n",
        "\n",
        "    try:\n",
        "\n",
        "      while attempts < max_attempts:  # Jab tak 5 guesses na ho jayein\n",
        "        try:\n",
        "          guess = int(input(\"Enter a guess: \"))  # User ka input lena\n",
        "          attempts += 1  # Har guess ke baad ek count badhao\n",
        "\n",
        "          if guess > number:\n",
        "            print(\"Your guess is too high\")  # Agar guess bada ho\n",
        "          elif guess < number:\n",
        "            print(\"Your guess is too low\")  # Agar guess chhota ho\n",
        "          else:\n",
        "            print(\"🎉 Congrats! You guessed it right. The number was:\", number)  # Agar sahi guess ho\n",
        "            return  # Function end karna\n",
        "\n",
        "        except ValueError:\n",
        "          print(\"Please Enter a Valid Number which 0 t0 99 ✅\")\n",
        "\n",
        "    except KeyboardInterrupt:\n",
        "      print(f\"\\n Game stop by user. The Number was: {number}\")\n",
        "\n",
        "    # Agar loop se bahar aa gaya, iska matlab 5 tries fail ho chuki hain\n",
        "    print(\"\\n❌ Sorry, game over! The number was:\", number, \"😊\")\n",
        "\n",
        "\n",
        "\n",
        "if __name__ == '__main__':\n",
        "    main()\n"
      ],
      "metadata": {
        "colab": {
          "base_uri": "https://localhost:8080/"
        },
        "id": "BXlkar5EBkgb",
        "outputId": "4f539dbd-9ae6-4341-a7b5-69ea784aeb6a"
      },
      "execution_count": 27,
      "outputs": [
        {
          "output_type": "stream",
          "name": "stdout",
          "text": [
            "I am thinking of a number between 0 and 99...\n",
            "\n",
            "Enter a guess: abd\n",
            "Please Enter a Valid Number which 0 t0 99 ✅\n",
            "Enter a guess: r\n",
            "Please Enter a Valid Number which 0 t0 99 ✅\n",
            "Enter a guess: 9\n",
            "Your guess is too low\n",
            "Enter a guess: 99\n",
            "Your guess is too high\n",
            "Enter a guess: 77\n",
            "Your guess is too low\n",
            "Enter a guess: 89\n",
            "Your guess is too high\n",
            "Enter a guess: 76\n",
            "Your guess is too low\n",
            "\n",
            "❌ Sorry, game over! The number was: 87 😊\n"
          ]
        }
      ]
    },
    {
      "cell_type": "markdown",
      "source": [
        "# Problem Statement\n",
        "Print 10 random numbers in the range 1 to 100.\n",
        "\n",
        "Here is an example run:\n",
        "\n",
        "45 79 61 47 52 10 16 83 19 12\n",
        "\n",
        "Each time you run your program you should get different numbers\n",
        "\n",
        "81 76 70 1 27 63 96 100 32 92\n",
        "\n",
        "Recall that the python random library has a function randint which returns an integer in the range set by the parameters (inclusive). For example this call would produce a random integer between 1 and 6, which could include 1 and could include 6:\n",
        "\n",
        "value = random.randint(1, 6)\n",
        "\n",
        "## Starter Code"
      ],
      "metadata": {
        "id": "gma129F7X8HS"
      }
    },
    {
      "cell_type": "code",
      "source": [
        "import random  # Random number generate karne ke liye\n",
        "\n",
        "N_NUMBERS: int = 10  # Kitne random numbers chahiye\n",
        "MIN_VALUE: int = 1    # Minimum value\n",
        "MAX_VALUE: int = 100  # Maximum value\n",
        "\n",
        "def main():\n",
        "\n",
        "    \"\"\"\n",
        "    Prints 10 random numbers in the range 1 to 100.\n",
        "    \"\"\"\n",
        "    for _ in range(N_NUMBERS):  # 10 baar loop chalega\n",
        "\n",
        "        print(random.randint(MIN_VALUE, MAX_VALUE), end=\" \")  # Random number print hoga space ke saath\n",
        "\n",
        "\n",
        "\n",
        "if __name__ == '__main__':\n",
        "    main()\n"
      ],
      "metadata": {
        "colab": {
          "base_uri": "https://localhost:8080/"
        },
        "id": "W1eAzcIwX7TJ",
        "outputId": "faad6496-114c-44d6-bf27-d060a71f7f10"
      },
      "execution_count": 8,
      "outputs": [
        {
          "output_type": "stream",
          "name": "stdout",
          "text": [
            "48 1 87 91 62 76 98 31 51 20 "
          ]
        }
      ]
    },
    {
      "cell_type": "markdown",
      "source": [
        "# 1. Random Numbers Without Repetition\n",
        "\n",
        "random.sample() ek hi baar me poora list de deta hai.\n",
        "\n",
        "Isme loop lagane ki zaroorat nahi hoti, kyunki ye ek saath multiple values return kar deta hai!\n",
        "\n",
        "🔹 Example with random.sample()"
      ],
      "metadata": {
        "id": "Z8FnXEU3Ymtl"
      }
    },
    {
      "cell_type": "code",
      "source": [
        "import random\n",
        "\n",
        "N_NUMBERS = 10\n",
        "MIN_VALUE = 1\n",
        "MAX_VALUE = 100\n",
        "\n",
        "def main():\n",
        "\n",
        "    \"\"\"✅ Python me range(start, end) ka end exclusive hota hai (include nahi hota),\n",
        "    isiliye agar last number chahiye to +1 likhna zaroori hai! 🎯🚀\n",
        "    random.simple() unique value de ga duplicate value nahi de ga\n",
        "    \"\"\"\n",
        "    numbers = random.sample(range(MIN_VALUE, MAX_VALUE + 1), N_NUMBERS)  # ye N_number Ek hi baar me 10 unique numbers\n",
        "\n",
        "    print(*numbers)  # *numbers → Ye list ke har element ko space-separated format me print karega.\n",
        "                     # 👉 *numbers ka matlab hai \"list ko unpack karo\".\n",
        "\n",
        "if __name__ == '__main__':\n",
        "    main()\n"
      ],
      "metadata": {
        "colab": {
          "base_uri": "https://localhost:8080/"
        },
        "id": "79vZV5ztYrEx",
        "outputId": "d28195ff-a336-4ecb-87e7-6733d607e017"
      },
      "execution_count": 17,
      "outputs": [
        {
          "output_type": "stream",
          "name": "stdout",
          "text": [
            "30 36 42 83 26 71 21 39 52 4\n"
          ]
        }
      ]
    },
    {
      "cell_type": "markdown",
      "source": [
        "# 2. Save Random Numbers to a File (Logging)\n",
        "Agar aap random numbers kisi file main save karna chahte hain taake later analyze kar sakein:"
      ],
      "metadata": {
        "id": "PhMmdPQfjLjj"
      }
    },
    {
      "cell_type": "code",
      "source": [
        "import random\n",
        "\n",
        "def main():\n",
        "    N_NUMBERS = 10\n",
        "    MIN_VALUE = 1\n",
        "    MAX_VALUE = 100\n",
        "\n",
        "    numbers = [random.randint(MIN_VALUE, MAX_VALUE) for _ in range(N_NUMBERS)]\n",
        "\n",
        "    with open(\"random_numbers.txt\", \"a\") as file:  # File me append mode\n",
        "        file.write(\" \".join(map(str, numbers)) + \"\\n\")   # → Saare numbers ek single string me convert honge,\n",
        "\n",
        "    print(*numbers)   #🔹 → * (unpacking operator) use karne se list ke numbers space-separated print honge.\n",
        "                      #  * → kya karta hai?: Ye list ko  \"unpack\" karta hai, matlab har number alag-alag argument ban jata hai.\n",
        "\n",
        "if __name__ == '__main__':\n",
        "    main()\n"
      ],
      "metadata": {
        "colab": {
          "base_uri": "https://localhost:8080/"
        },
        "id": "cBF4bXEljQc0",
        "outputId": "802c34e7-3183-46ff-c596-521f874c96a5"
      },
      "execution_count": 23,
      "outputs": [
        {
          "output_type": "stream",
          "name": "stdout",
          "text": [
            "70 29 70 52 23 14 12 64 33 2\n"
          ]
        }
      ]
    },
    {
      "cell_type": "code",
      "source": [
        "with open(\"random_numbers.txt\", \"r\") as file:\n",
        "    print(file.read())"
      ],
      "metadata": {
        "colab": {
          "base_uri": "https://localhost:8080/"
        },
        "id": "0WKpeQ8otKY8",
        "outputId": "04ca71c3-ccae-4b50-9f14-5ca11dc27b59"
      },
      "execution_count": 24,
      "outputs": [
        {
          "output_type": "stream",
          "name": "stdout",
          "text": [
            "18 1 54 49 88 48 61 65 43 20\n",
            "90 9 4 48 70 97 83 81 59 93\n",
            "95 12 34 76 70 25 77 9 44 28\n",
            "9 9 78 81 92 28 58 2 53 97\n",
            "70 29 70 52 23 14 12 64 33 2\n",
            "\n"
          ]
        }
      ]
    },
    {
      "cell_type": "markdown",
      "source": [
        "# 3. GUI-Based Random Number Generator\n",
        "Agar aap Graphical User Interface (GUI) banana chahte hain, to Tkinter ka use kar sakte hain:"
      ],
      "metadata": {
        "id": "PRrAcLcz4khc"
      }
    },
    {
      "cell_type": "code",
      "source": [
        "import random\n",
        "import ipywidgets as widgets\n",
        "from IPython.display import display\n",
        "\n",
        "# Button create karna\n",
        "button = widgets.Button(description=\"Generate Random Numbers\")\n",
        "output = widgets.Output()\n",
        "\n",
        "# Function jo button click hone par chalega\n",
        "def generate_numbers(b):\n",
        "    with output:\n",
        "        output.clear_output()  # Purana output hatane ke liye\n",
        "        numbers = random.sample(range(1, 101), 10)\n",
        "        print(\" \".join(map(str, numbers)))\n",
        "\n",
        "button.on_click(generate_numbers)\n",
        "\n",
        "# Display UI\n",
        "display(button, output)\n"
      ],
      "metadata": {
        "colab": {
          "base_uri": "https://localhost:8080/",
          "height": 67,
          "referenced_widgets": [
            "f418c2600a60424e9f366905c2a9a597",
            "01cfb0dd691448cf96b36818c2ec4a05",
            "54a988560a4645d490358c53f3de3656",
            "ab0044c1391a426d8935e5355f60ec88",
            "34549c0872a440879f29e1c999462e8e"
          ]
        },
        "id": "nyKgEWPU4n87",
        "outputId": "dd5dc7fb-4bca-4e87-f277-fba66a50c702"
      },
      "execution_count": 26,
      "outputs": [
        {
          "output_type": "display_data",
          "data": {
            "text/plain": [
              "Button(description='Generate Random Numbers', style=ButtonStyle())"
            ],
            "application/vnd.jupyter.widget-view+json": {
              "version_major": 2,
              "version_minor": 0,
              "model_id": "f418c2600a60424e9f366905c2a9a597"
            }
          },
          "metadata": {}
        },
        {
          "output_type": "display_data",
          "data": {
            "text/plain": [
              "Output()"
            ],
            "application/vnd.jupyter.widget-view+json": {
              "version_major": 2,
              "version_minor": 0,
              "model_id": "ab0044c1391a426d8935e5355f60ec88"
            }
          },
          "metadata": {}
        }
      ]
    },
    {
      "cell_type": "markdown",
      "source": [],
      "metadata": {
        "id": "R8LTUa55_7HX"
      }
    },
    {
      "cell_type": "code",
      "source": [
        "import random\n",
        "import matplotlib.pyplot as plt\n",
        "\n",
        "def generate_numbers():\n",
        "    numbers = random.sample(range(1, 101), 10)\n",
        "\n",
        "    # Graph plot karna\n",
        "    plt.figure(figsize=(8, 4))\n",
        "    plt.bar(range(1, 11), numbers, color='blue')\n",
        "    plt.xlabel(\"Index\")\n",
        "    plt.ylabel(\"Random Number\")\n",
        "    plt.title(\"Random Numbers (1 to 100)\")\n",
        "    plt.show()\n",
        "\n",
        "generate_numbers()\n"
      ],
      "metadata": {
        "colab": {
          "base_uri": "https://localhost:8080/",
          "height": 410
        },
        "id": "vKgAs6St_5z5",
        "outputId": "ab4839aa-3d6e-422e-e498-680d092b4fa6"
      },
      "execution_count": 29,
      "outputs": [
        {
          "output_type": "display_data",
          "data": {
            "text/plain": [
              "<Figure size 800x400 with 1 Axes>"
            ],
            "image/png": "[encoded data removed]"
          },
          "metadata": {}
        }
      ]
    },
    {
      "cell_type": "markdown",
      "source": [],
      "metadata": {
        "id": "flJmjKUvCZVJ"
      }
    },
    {
      "cell_type": "code",
      "source": [],
      "metadata": {
        "id": "brk8d2UAHLZ0"
      },
      "execution_count": null,
      "outputs": []
    },
    {
      "cell_type": "code",
      "source": [
        "# Step 1: Install Streamlit (only once)\n",
        "!pip install streamlit\n",
        "!pip install --upgrade streamlit\n",
        "!pip install pyngrok\n",
        "\n",
        "# Step 2: Write Streamlit Code\n",
        "code = \"\"\"\n",
        "import streamlit as st\n",
        "import random\n",
        "\n",
        "st.title(\"🎲 Random Number Generator\")\n",
        "\n",
        "if st.button(\"Generate 10 Random Numbers\"):\n",
        "    random_numbers = random.sample(range(1, 101), 10)\n",
        "    st.subheader(\"Here are your numbers:\")\n",
        "    st.write(\"🎯\", \"  \".join(map(str, random_numbers)))\n",
        "else:\n",
        "    st.info(\"Click the button above to generate random numbers.\")\n",
        "\"\"\"\n",
        "\n",
        "# Save code in a Python file\n",
        "with open(\"app.py\", \"w\") as f:\n",
        "    f.write(code)\n",
        "\n",
        "# Step 3: Run Streamlit with LocalTunnel\n",
        "!streamlit run app.py & npx localtunnel --port 8501\n"
      ],
      "metadata": {
        "colab": {
          "base_uri": "https://localhost:8080/"
        },
        "id": "ruwIZ3LGCa0C",
        "outputId": "25123e68-a117-43a2-e973-28f37b7bfe2e"
      },
      "execution_count": 36,
      "outputs": [
        {
          "output_type": "stream",
          "name": "stdout",
          "text": [
            "Requirement already satisfied: streamlit in /usr/local/lib/python3.11/dist-packages (1.44.1)\n",
            "Requirement already satisfied: altair<6,>=4.0 in /usr/local/lib/python3.11/dist-packages (from streamlit) (5.5.0)\n",
            "Requirement already satisfied: blinker<2,>=1.0.0 in /usr/local/lib/python3.11/dist-packages (from streamlit) (1.9.0)\n",
            "Requirement already satisfied: cachetools<6,>=4.0 in /usr/local/lib/python3.11/dist-packages (from streamlit) (5.5.2)\n",
            "Requirement already satisfied: click<9,>=7.0 in /usr/local/lib/python3.11/dist-packages (from streamlit) (8.1.8)\n",
            "Requirement already satisfied: numpy<3,>=1.23 in /usr/local/lib/python3.11/dist-packages (from streamlit) (2.0.2)\n",
            "Requirement already satisfied: packaging<25,>=20 in /usr/local/lib/python3.11/dist-packages (from streamlit) (24.2)\n",
            "Requirement already satisfied: pandas<3,>=1.4.0 in /usr/local/lib/python3.11/dist-packages (from streamlit) (2.2.2)\n",
            "Requirement already satisfied: pillow<12,>=7.1.0 in /usr/local/lib/python3.11/dist-packages (from streamlit) (11.1.0)\n",
            "Requirement already satisfied: protobuf<6,>=3.20 in /usr/local/lib/python3.11/dist-packages (from streamlit) (5.29.4)\n",
            "Requirement already satisfied: pyarrow>=7.0 in /usr/local/lib/python3.11/dist-packages (from streamlit) (18.1.0)\n",
            "Requirement already satisfied: requests<3,>=2.27 in /usr/local/lib/python3.11/dist-packages (from streamlit) (2.32.3)\n",
            "Requirement already satisfied: tenacity<10,>=8.1.0 in /usr/local/lib/python3.11/dist-packages (from streamlit) (9.0.0)\n",
            "Requirement already satisfied: toml<2,>=0.10.1 in /usr/local/lib/python3.11/dist-packages (from streamlit) (0.10.2)\n",
            "Requirement already satisfied: typing-extensions<5,>=4.4.0 in /usr/local/lib/python3.11/dist-packages (from streamlit) (4.13.0)\n",
            "Requirement already satisfied: watchdog<7,>=2.1.5 in /usr/local/lib/python3.11/dist-packages (from streamlit) (6.0.0)\n",
            "Requirement already satisfied: gitpython!=3.1.19,<4,>=3.0.7 in /usr/local/lib/python3.11/dist-packages (from streamlit) (3.1.44)\n",
            "Requirement already satisfied: pydeck<1,>=0.8.0b4 in /usr/local/lib/python3.11/dist-packages (from streamlit) (0.9.1)\n",
            "Requirement already satisfied: tornado<7,>=6.0.3 in /usr/local/lib/python3.11/dist-packages (from streamlit) (6.4.2)\n",
            "Requirement already satisfied: jinja2 in /usr/local/lib/python3.11/dist-packages (from altair<6,>=4.0->streamlit) (3.1.6)\n",
            "Requirement already satisfied: jsonschema>=3.0 in /usr/local/lib/python3.11/dist-packages (from altair<6,>=4.0->streamlit) (4.23.0)\n",
            "Requirement already satisfied: narwhals>=1.14.2 in /usr/local/lib/python3.11/dist-packages (from altair<6,>=4.0->streamlit) (1.33.0)\n",
            "Requirement already satisfied: gitdb<5,>=4.0.1 in /usr/local/lib/python3.11/dist-packages (from gitpython!=3.1.19,<4,>=3.0.7->streamlit) (4.0.12)\n",
            "Requirement already satisfied: python-dateutil>=2.8.2 in /usr/local/lib/python3.11/dist-packages (from pandas<3,>=1.4.0->streamlit) (2.8.2)\n",
            "Requirement already satisfied: pytz>=2020.1 in /usr/local/lib/python3.11/dist-packages (from pandas<3,>=1.4.0->streamlit) (2025.2)\n",
            "Requirement already satisfied: tzdata>=2022.7 in /usr/local/lib/python3.11/dist-packages (from pandas<3,>=1.4.0->streamlit) (2025.2)\n",
            "Requirement already satisfied: charset-normalizer<4,>=2 in /usr/local/lib/python3.11/dist-packages (from requests<3,>=2.27->streamlit) (3.4.1)\n",
            "Requirement already satisfied: idna<4,>=2.5 in /usr/local/lib/python3.11/dist-packages (from requests<3,>=2.27->streamlit) (3.10)\n",
            "Requirement already satisfied: urllib3<3,>=1.21.1 in /usr/local/lib/python3.11/dist-packages (from requests<3,>=2.27->streamlit) (2.3.0)\n",
            "Requirement already satisfied: certifi>=2017.4.17 in /usr/local/lib/python3.11/dist-packages (from requests<3,>=2.27->streamlit) (2025.1.31)\n",
            "Requirement already satisfied: smmap<6,>=3.0.1 in /usr/local/lib/python3.11/dist-packages (from gitdb<5,>=4.0.1->gitpython!=3.1.19,<4,>=3.0.7->streamlit) (5.0.2)\n",
            "Requirement already satisfied: MarkupSafe>=2.0 in /usr/local/lib/python3.11/dist-packages (from jinja2->altair<6,>=4.0->streamlit) (3.0.2)\n",
            "Requirement already satisfied: attrs>=22.2.0 in /usr/local/lib/python3.11/dist-packages (from jsonschema>=3.0->altair<6,>=4.0->streamlit) (25.3.0)\n",
            "Requirement already satisfied: jsonschema-specifications>=2023.03.6 in /usr/local/lib/python3.11/dist-packages (from jsonschema>=3.0->altair<6,>=4.0->streamlit) (2024.10.1)\n",
            "Requirement already satisfied: referencing>=0.28.4 in /usr/local/lib/python3.11/dist-packages (from jsonschema>=3.0->altair<6,>=4.0->streamlit) (0.36.2)\n",
            "Requirement already satisfied: rpds-py>=0.7.1 in /usr/local/lib/python3.11/dist-packages (from jsonschema>=3.0->altair<6,>=4.0->streamlit) (0.24.0)\n",
            "Requirement already satisfied: six>=1.5 in /usr/local/lib/python3.11/dist-packages (from python-dateutil>=2.8.2->pandas<3,>=1.4.0->streamlit) (1.17.0)\n",
            "Requirement already satisfied: streamlit in /usr/local/lib/python3.11/dist-packages (1.44.1)\n",
            "Requirement already satisfied: altair<6,>=4.0 in /usr/local/lib/python3.11/dist-packages (from streamlit) (5.5.0)\n",
            "Requirement already satisfied: blinker<2,>=1.0.0 in /usr/local/lib/python3.11/dist-packages (from streamlit) (1.9.0)\n",
            "Requirement already satisfied: cachetools<6,>=4.0 in /usr/local/lib/python3.11/dist-packages (from streamlit) (5.5.2)\n",
            "Requirement already satisfied: click<9,>=7.0 in /usr/local/lib/python3.11/dist-packages (from streamlit) (8.1.8)\n",
            "Requirement already satisfied: numpy<3,>=1.23 in /usr/local/lib/python3.11/dist-packages (from streamlit) (2.0.2)\n",
            "Requirement already satisfied: packaging<25,>=20 in /usr/local/lib/python3.11/dist-packages (from streamlit) (24.2)\n",
            "Requirement already satisfied: pandas<3,>=1.4.0 in /usr/local/lib/python3.11/dist-packages (from streamlit) (2.2.2)\n",
            "Requirement already satisfied: pillow<12,>=7.1.0 in /usr/local/lib/python3.11/dist-packages (from streamlit) (11.1.0)\n",
            "Requirement already satisfied: protobuf<6,>=3.20 in /usr/local/lib/python3.11/dist-packages (from streamlit) (5.29.4)\n",
            "Requirement already satisfied: pyarrow>=7.0 in /usr/local/lib/python3.11/dist-packages (from streamlit) (18.1.0)\n",
            "Requirement already satisfied: requests<3,>=2.27 in /usr/local/lib/python3.11/dist-packages (from streamlit) (2.32.3)\n",
            "Requirement already satisfied: tenacity<10,>=8.1.0 in /usr/local/lib/python3.11/dist-packages (from streamlit) (9.0.0)\n",
            "Requirement already satisfied: toml<2,>=0.10.1 in /usr/local/lib/python3.11/dist-packages (from streamlit) (0.10.2)\n",
            "Requirement already satisfied: typing-extensions<5,>=4.4.0 in /usr/local/lib/python3.11/dist-packages (from streamlit) (4.13.0)\n",
            "Requirement already satisfied: watchdog<7,>=2.1.5 in /usr/local/lib/python3.11/dist-packages (from streamlit) (6.0.0)\n",
            "Requirement already satisfied: gitpython!=3.1.19,<4,>=3.0.7 in /usr/local/lib/python3.11/dist-packages (from streamlit) (3.1.44)\n",
            "Requirement already satisfied: pydeck<1,>=0.8.0b4 in /usr/local/lib/python3.11/dist-packages (from streamlit) (0.9.1)\n",
            "Requirement already satisfied: tornado<7,>=6.0.3 in /usr/local/lib/python3.11/dist-packages (from streamlit) (6.4.2)\n",
            "Requirement already satisfied: jinja2 in /usr/local/lib/python3.11/dist-packages (from altair<6,>=4.0->streamlit) (3.1.6)\n",
            "Requirement already satisfied: jsonschema>=3.0 in /usr/local/lib/python3.11/dist-packages (from altair<6,>=4.0->streamlit) (4.23.0)\n",
            "Requirement already satisfied: narwhals>=1.14.2 in /usr/local/lib/python3.11/dist-packages (from altair<6,>=4.0->streamlit) (1.33.0)\n",
            "Requirement already satisfied: gitdb<5,>=4.0.1 in /usr/local/lib/python3.11/dist-packages (from gitpython!=3.1.19,<4,>=3.0.7->streamlit) (4.0.12)\n",
            "Requirement already satisfied: python-dateutil>=2.8.2 in /usr/local/lib/python3.11/dist-packages (from pandas<3,>=1.4.0->streamlit) (2.8.2)\n",
            "Requirement already satisfied: pytz>=2020.1 in /usr/local/lib/python3.11/dist-packages (from pandas<3,>=1.4.0->streamlit) (2025.2)\n",
            "Requirement already satisfied: tzdata>=2022.7 in /usr/local/lib/python3.11/dist-packages (from pandas<3,>=1.4.0->streamlit) (2025.2)\n",
            "Requirement already satisfied: charset-normalizer<4,>=2 in /usr/local/lib/python3.11/dist-packages (from requests<3,>=2.27->streamlit) (3.4.1)\n",
            "Requirement already satisfied: idna<4,>=2.5 in /usr/local/lib/python3.11/dist-packages (from requests<3,>=2.27->streamlit) (3.10)\n",
            "Requirement already satisfied: urllib3<3,>=1.21.1 in /usr/local/lib/python3.11/dist-packages (from requests<3,>=2.27->streamlit) (2.3.0)\n",
            "Requirement already satisfied: certifi>=2017.4.17 in /usr/local/lib/python3.11/dist-packages (from requests<3,>=2.27->streamlit) (2025.1.31)\n",
            "Requirement already satisfied: smmap<6,>=3.0.1 in /usr/local/lib/python3.11/dist-packages (from gitdb<5,>=4.0.1->gitpython!=3.1.19,<4,>=3.0.7->streamlit) (5.0.2)\n",
            "Requirement already satisfied: MarkupSafe>=2.0 in /usr/local/lib/python3.11/dist-packages (from jinja2->altair<6,>=4.0->streamlit) (3.0.2)\n",
            "Requirement already satisfied: attrs>=22.2.0 in /usr/local/lib/python3.11/dist-packages (from jsonschema>=3.0->altair<6,>=4.0->streamlit) (25.3.0)\n",
            "Requirement already satisfied: jsonschema-specifications>=2023.03.6 in /usr/local/lib/python3.11/dist-packages (from jsonschema>=3.0->altair<6,>=4.0->streamlit) (2024.10.1)\n",
            "Requirement already satisfied: referencing>=0.28.4 in /usr/local/lib/python3.11/dist-packages (from jsonschema>=3.0->altair<6,>=4.0->streamlit) (0.36.2)\n",
            "Requirement already satisfied: rpds-py>=0.7.1 in /usr/local/lib/python3.11/dist-packages (from jsonschema>=3.0->altair<6,>=4.0->streamlit) (0.24.0)\n",
            "Requirement already satisfied: six>=1.5 in /usr/local/lib/python3.11/dist-packages (from python-dateutil>=2.8.2->pandas<3,>=1.4.0->streamlit) (1.17.0)\n",
            "Requirement already satisfied: pyngrok in /usr/local/lib/python3.11/dist-packages (7.2.3)\n",
            "Requirement already satisfied: PyYAML>=5.1 in /usr/local/lib/python3.11/dist-packages (from pyngrok) (6.0.2)\n",
            "\n",
            "Collecting usage statistics. To deactivate, set browser.gatherUsageStats to false.\n",
            "\u001b[0m\n",
            "\u001b[1G\u001b[0K⠙\u001b[1G\u001b[0K⠹\u001b[0m\n",
            "\u001b[34m\u001b[1m  You can now view your Streamlit app in your browser.\u001b[0m\n",
            "\u001b[0m\n",
            "\u001b[34m  Local URL: \u001b[0m\u001b[1mhttp://localhost:8501\u001b[0m\n",
            "\u001b[34m  Network URL: \u001b[0m\u001b[1mhttp://172.28.0.12:8501\u001b[0m\n",
            "\u001b[34m  External URL: \u001b[0m\u001b[1mhttp://34.48.33.127:8501\u001b[0m\n",
            "\u001b[0m\n",
            "\u001b[1G\u001b[0K⠸\u001b[1G\u001b[0K⠼\u001b[1G\u001b[0K⠴\u001b[1G\u001b[0Kyour url is: https://hip-ghosts-jog.loca.lt\n",
            "\u001b[34m  Stopping...\u001b[0m\n",
            "^C\n"
          ]
        }
      ]
    }
  ]
}